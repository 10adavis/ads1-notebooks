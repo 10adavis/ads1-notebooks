{
 "cells": [
  {
   "cell_type": "code",
   "execution_count": null,
   "metadata": {},
   "outputs": [],
   "source": [
    "# First, download the provided excerpt of human chromosome 1\n",
    "# https://d28rh4a8wq0iu5.cloudfront.net/ads1/data/chr1.GRCh38.excerpt.fasta"
   ]
  },
  {
   "cell_type": "code",
   "execution_count": 3,
   "metadata": {},
   "outputs": [],
   "source": [
    "# Second, parse it using the readGenome function we wrote before.\n",
    "def readGenome(filename):\n",
    "    genome = ''\n",
    "    with open(filename, 'r') as f:\n",
    "        for line in f:\n",
    "            # ignore header line with genome information\n",
    "            if not line[0] == '>':\n",
    "                genome += line.rstrip()\n",
    "    return genome\n",
    "\n"
   ]
  },
  {
   "cell_type": "code",
   "execution_count": 48,
   "metadata": {},
   "outputs": [
    {
     "data": {
      "text/plain": [
       "'TTGAATGCTGAAATCAGCAGGTAATATATGATAATAGAGAAAGCTATCCCGAAGGTGCATAGGTCAACAATACTTGAGCCTAACTCAGTAGATCCTAAAA'"
      ]
     },
     "execution_count": 48,
     "metadata": {},
     "output_type": "execute_result"
    }
   ],
   "source": [
    "genome = readGenome('chr1.GRCh38.excerpt.fasta')\n",
    "genome[:100]\n"
   ]
  },
  {
   "cell_type": "code",
   "execution_count": 10,
   "metadata": {},
   "outputs": [],
   "source": [
    "# Third, adapt the editDistance function we saw in practical (copied below) to answer questions 1 and 2 below. Your function should take arguments p (pattern), \n",
    "# t (text) and should return the edit distance of the match between P and T with the fewest edits.\n",
    "\n",
    "# Hint: In the \"A new solution to approximate matching\" video we saw that the best approximate match of\n",
    "# P = GCGTATGC within T = TATTGGCTATACGGTT had 2 edits. You can use this and other small examples to \n",
    "# double-check that your function is working.\n",
    "\n",
    "\"\"\"\n",
    "def editDistance(x, y):\n",
    "    # x = P (pattern), y= T (reference)\n",
    "    # Create distance matrix\n",
    "    D = []\n",
    "    for i in range(len(x)+1):\n",
    "        D.append([0]*(len(y)+1))\n",
    "    # Initialize first row and column of matrix\n",
    "    for i in range(len(x)+1):\n",
    "        D[i][0] = i\n",
    "    for i in range(len(y)+1):\n",
    "        D[0][i] = i\n",
    "    # Fill in the rest of the matrix\n",
    "    for i in range(1, len(x)+1):\n",
    "        for j in range(1, len(y)+1):\n",
    "            distHor = D[i][j-1] + 1\n",
    "            distVer = D[i-1][j] + 1\n",
    "            if x[i-1] == y[j-1]:\n",
    "                distDiag = D[i-1][j-1]\n",
    "            else:\n",
    "                distDiag = D[i-1][j-1] + 1\n",
    "            D[i][j] = min(distHor, distVer, distDiag)\n",
    "    # Edit distance is the value in the bottom right corner of the matrix\n",
    "    return D[-1][-1]\n",
    "\"\"\"\n",
    "\n",
    "def editDistance(x,y):\n",
    "    \"\"\"\n",
    "    Implement dynamic algorithm to calculate edit distance between a given\n",
    "    pattern and a given genome\n",
    "    \"\"\"\n",
    "    # x = P (pattern), y= T (reference)\n",
    "    pattern_length = len(x) + 1\n",
    "    genome_length = len(y) + 1\n",
    "    #generate matrix\n",
    "    matrix = [[0]*genome_length for i in range(pattern_length)]\n",
    "    # initiate the first column\n",
    "    for i in range(pattern_length):\n",
    "        matrix[i][0] = i\n",
    "    for i in range(1, pattern_length):\n",
    "        for j in range(1, genome_length):\n",
    "            dist_hor = matrix[i][j-1] + 1\n",
    "            dist_vel = matrix[i-1][j] + 1\n",
    "            if pattern[i-1] == genome[j-1]:\n",
    "                dist_diag = matrix[i-1][j-1]\n",
    "            else:\n",
    "                dist_diag = matrix[i-1][j-1] + 1\n",
    "            matrix[i][j] = min(dist_hor, dist_vel, dist_diag)\n",
    "    return matrix[-1][-1]\n",
    "\n",
    "\n",
    "\n"
   ]
  },
  {
   "cell_type": "code",
   "execution_count": 50,
   "metadata": {},
   "outputs": [
    {
     "name": "stdout",
     "output_type": "stream",
     "text": [
      "3\n"
     ]
    }
   ],
   "source": [
    "pattern = 'GCTGATCGATCGTACG'\n",
    "P = 'GCGTATGC'\n",
    "T = 'TATTGGCTATACGGTT'\n",
    "print(editDistance(P,T))\n"
   ]
  },
  {
   "cell_type": "code",
   "execution_count": 11,
   "metadata": {},
   "outputs": [],
   "source": [
    "from itertools import permutations\n",
    "\n",
    "class findPatternV3 ():\n",
    "    \"\"\"\n",
    "    This class finds the edit distance of a given pattern in a given genomic \n",
    "    sequence and constructs overlap graphs.\n",
    "    \"\"\"\n",
    "    def __init__(self, filename, pattern = False):\n",
    "        # initiate parameters\n",
    "        self.pattern = pattern\n",
    "        self.filename = filename\n",
    "        \n",
    "    def readGenome (self):\n",
    "        \"\"\"\n",
    "        read genomic DNA sequence to a string\n",
    "        \"\"\"\n",
    "        genome = \"\"\n",
    "        with open (self.filename, \"r\") as f:\n",
    "            for line in f:\n",
    "                # skip header\n",
    "                if not line[0] == \">\":\n",
    "                    genome += line.rstrip()\n",
    "            f.close()\n",
    "        return genome\n",
    "        \n",
    "    def readFastq(self):\n",
    "        \"\"\"\n",
    "        read dna sequence and quality base from a fastq sequencing file to lists\n",
    "        \"\"\"\n",
    "        with open (self.filename, \"r\") as f:\n",
    "             sequences = []\n",
    "             qualities = []\n",
    "             while True:\n",
    "                 f.readline() # skip name line\n",
    "                 seq = f.readline().rstrip() # read sequence line\n",
    "                 f.readline() # skip strand line\n",
    "                 qual = f.readline().rstrip() # read quality line\n",
    "                 if len(seq) == 0: #finish read\n",
    "                     break\n",
    "                 # add seqence and quality information to list\n",
    "                 sequences.append(seq)\n",
    "                 qualities.append(qual)\n",
    "             f.close()\n",
    "        return sequences, qualities\n",
    "        \n",
    "    def editDistance(self):\n",
    "        \"\"\"\n",
    "        Implement dynamic algorithm to calculate edit distance between a given\n",
    "        pattern and a given genome\n",
    "        \"\"\"\n",
    "        pattern = self.pattern\n",
    "        genome = self.readGenome()\n",
    "        pattern_length = len(pattern) + 1\n",
    "        genome_length = len(genome) + 1\n",
    "        #generate matrix\n",
    "        matrix = [[0]*genome_length for i in range(pattern_length)]\n",
    "        # initiate the first column\n",
    "        for i in range(pattern_length):\n",
    "            matrix[i][0] = i\n",
    "        for i in range(1, pattern_length):\n",
    "            for j in range(1, genome_length):\n",
    "                dist_hor = matrix[i][j-1] + 1\n",
    "                dist_vel = matrix[i-1][j] + 1\n",
    "                dist_diag = matrix[i-1][j-1] + 1 if pattern[i-1] != genome[j-1]\\\n",
    "                            else matrix[i-1][j-1]\n",
    "                matrix[i][j] = min(dist_hor, dist_vel, dist_diag)\n",
    "        return min(matrix[-1])                \n",
    "            \n",
    "    def phraseReads(self, k_mer):\n",
    "        \"\"\"\n",
    "        construct the prefix and suffix of a read to a dictornary with read as\n",
    "        key and pre-,suffix as values\n",
    "        \"\"\"\n",
    "        reads, _ = self.readFastq()\n",
    "        reads_dict = {}\n",
    "        for read in reads:\n",
    "            for i in range(len(read) - k_mer + 1):\n",
    "                substring = read[i:i+k_mer]\n",
    "                if substring not in reads_dict:\n",
    "                    reads_dict[substring] = set([read])\n",
    "                else:\n",
    "                    reads_dict[substring].add(read)\n",
    "        return reads_dict\n",
    "    def overlap(self, read1, read2, k_mer):\n",
    "        \"\"\"\n",
    "        find overlaped leftmost offset\n",
    "        \"\"\"\n",
    "        start = 0\n",
    "        while True:\n",
    "            start = read1.find(read2[:k_mer], start)\n",
    "            if start == -1:\n",
    "                return 0 # without overlap\n",
    "            if read2.startswith(read1[start:]):\n",
    "                return len(read1) - start\n",
    "            start += 1\n",
    "            \n",
    "    def overlapGraph(self, k_mer):\n",
    "        \"\"\"\n",
    "        construct graph with key as a read (node) and values as all other \n",
    "        reads overlapped with the previous read (node)\n",
    "        \"\"\"\n",
    "        reads_dict = self.phraseReads(k_mer)\n",
    "        reads, _= self.readFastq()\n",
    "        graph = {}\n",
    "        for read1 in reads:\n",
    "            k_mer_string = read1[len(read1) - k_mer:]\n",
    "            if k_mer_string in reads_dict:\n",
    "                edges = set([])\n",
    "                reads_set = reads_dict[k_mer_string]\n",
    "                for read2 in reads_set:\n",
    "                    if read1 != read2: #skip self comparison\n",
    "                        offset = self.overlap(read1, read2, k_mer)           \n",
    "                        if offset > 0: # skip non-overlapped pairs\n",
    "                            edges.add(read2) #add overlapped reads to be values\n",
    "                            graph[read1] = edges           \n",
    "        return graph\n",
    "                        \n",
    "    def naive_overlap_map(self, k_mer):\n",
    "        \"\"\"\n",
    "        construct graph with key as a pair of reads with overlap and values as\n",
    "        the leftmost offset of the overlap\n",
    "        \"\"\"\n",
    "        graph = {}\n",
    "        reads, _ = self.readFastq()\n",
    "        for read1, read2 in permutations(reads, 2):\n",
    "            #skip non-overlapped reads\n",
    "            if read1[len(read1) - k_mer:] in read2:\n",
    "                offset = self.overlap(read1, read2, k_mer)\n",
    "                    # check if reads[i] overlapped with reads[j]\n",
    "                if offset != 0:\n",
    "                    graph[(read1,read2)] = offset  \n",
    "        return graph\n"
   ]
  },
  {
   "cell_type": "code",
   "execution_count": 55,
   "metadata": {},
   "outputs": [
    {
     "name": "stdout",
     "output_type": "stream",
     "text": [
      "3\n"
     ]
    }
   ],
   "source": [
    "#Q1: What is the edit distance of the best match between pattern \n",
    "#GCTGATCGATCGTACG and the excerpt of human chromosome 1? \n",
    "#(Don't consider reverse complements.)\n",
    "pattern = \"GCTGATCGATCGTACG\"\n",
    "filename = \"chr1.GRCh38.excerpt.fasta\"\n",
    "patterns = findPatternV3 (filename, pattern)\n",
    "edit_dist = patterns.editDistance()\n",
    "print(edit_dist)"
   ]
  },
  {
   "cell_type": "code",
   "execution_count": 56,
   "metadata": {},
   "outputs": [
    {
     "name": "stdout",
     "output_type": "stream",
     "text": [
      "2\n"
     ]
    }
   ],
   "source": [
    "# Q2: What is the edit distance of the best match between pattern GATTTACCAGATTGAG\n",
    "#  and the excerpt of human chromosome 1? (Don't consider reverse complements.)\n",
    "pattern2 = \"GATTTACCAGATTGAG\"\n",
    "filename = \"chr1.GRCh38.excerpt.fasta\"\n",
    "patterns = findPatternV3 (filename, pattern2)\n",
    "edit_dist2 = patterns.editDistance()\n",
    "print(edit_dist2)"
   ]
  },
  {
   "cell_type": "code",
   "execution_count": 12,
   "metadata": {},
   "outputs": [
    {
     "name": "stdout",
     "output_type": "stream",
     "text": [
      "Running time for naive overlap mapping: 47 sec\n",
      "\n",
      "Running time for phrase reads: 0 sec\n",
      "\n",
      "Running time for optimized algorithm: 4 sec\n",
      "\n",
      "Q3: the total edges are 904746\n",
      "\n",
      "Q4: the total nodes are 7161\n"
     ]
    }
   ],
   "source": [
    "# Q3: \n",
    "# In a practical, we saw a function for finding the longest exact overlap (suffix/prefix match) between two strings. The function is copied below.\n",
    "# Picture the overlap graph corresponding to the overlaps just calculated. \n",
    "# How many edges are in the graph? In other words, how many distinct pairs of reads overlap?\n",
    "\n",
    "\n",
    "import time\n",
    "t1 = time.time()\n",
    "filename = \"ERR266411_1.for_asm.fastq\"\n",
    "patterns = findPatternV3 (filename)\n",
    "k_mer = 30\n",
    "graph = patterns.naive_overlap_map(k_mer)\n",
    "t2 = time.time()\n",
    "print \"Running time for naive overlap mapping: %d sec\\n\"%(t2 - t1)\n",
    "    \n",
    "reads = patterns.phraseReads(k_mer)\n",
    "t3 = time.time() \n",
    "print \"Running time for phrase reads: %d sec\\n\"%(t3 - t2)\n",
    "graph = patterns.overlapGraph(k_mer)\n",
    "t4 = time.time()\n",
    "print \"Running time for optimized algorithm: %d sec\\n\"%(t4 - t2)\n",
    "numberOfNodes = len(graph)\n",
    "numberOfEdges = sum([len(edges) for edges in graph.values()])\n",
    "print \"Q3: the total edges are %d\\n\"%numberOfEdges\n",
    "print \"Q4: the total nodes are %d\"%numberOfNodes\n"
   ]
  }
 ],
 "metadata": {
  "kernelspec": {
   "display_name": "Python 3",
   "language": "python",
   "name": "python3"
  },
  "language_info": {
   "codemirror_mode": {
    "name": "ipython",
    "version": 3
   },
   "file_extension": ".py",
   "mimetype": "text/x-python",
   "name": "python",
   "nbconvert_exporter": "python",
   "pygments_lexer": "ipython3",
   "version": "3.6.7"
  }
 },
 "nbformat": 4,
 "nbformat_minor": 1
}

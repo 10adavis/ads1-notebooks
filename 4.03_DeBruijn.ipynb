{
 "cells": [
  {
   "cell_type": "code",
   "execution_count": 6,
   "metadata": {},
   "outputs": [],
   "source": [
    "def de_bruijn_ize(st, k):\n",
    "    \"\"\" Return a list holding, for each k-mer, its left\n",
    "        k-1-mer and its right k-1-mer in a pair \"\"\"\n",
    "    edges = []\n",
    "    nodes = set()\n",
    "    for i in range(len(st) - k + 1):\n",
    "        edges.append((st[i:i+k-1], st[i+1:i+k])) # get the L and R k-1 mers\n",
    "        nodes.add(st[i:i+k-1]) # add the first k-1 mer as a node\n",
    "        nodes.add(st[i+1:i+k]) # add the second k-1 mer as a node\n",
    "    return nodes, edges  # re"
   ]
  },
  {
   "cell_type": "code",
   "execution_count": 7,
   "metadata": {},
   "outputs": [],
   "source": [
    "nodes, edges = de_bruijn_ize(\"ACGCGTCG\", 3)"
   ]
  },
  {
   "cell_type": "code",
   "execution_count": 8,
   "metadata": {},
   "outputs": [
    {
     "data": {
      "text/plain": [
       "{'AC', 'CG', 'GC', 'GT', 'TC'}"
      ]
     },
     "execution_count": 8,
     "metadata": {},
     "output_type": "execute_result"
    }
   ],
   "source": [
    "nodes"
   ]
  },
  {
   "cell_type": "code",
   "execution_count": 9,
   "metadata": {},
   "outputs": [
    {
     "data": {
      "text/plain": [
       "[('AC', 'CG'),\n",
       " ('CG', 'GC'),\n",
       " ('GC', 'CG'),\n",
       " ('CG', 'GT'),\n",
       " ('GT', 'TC'),\n",
       " ('TC', 'CG')]"
      ]
     },
     "execution_count": 9,
     "metadata": {},
     "output_type": "execute_result"
    }
   ],
   "source": [
    "edges # this is the Eulerian walk through the graph"
   ]
  },
  {
   "cell_type": "code",
   "execution_count": 8,
   "metadata": {},
   "outputs": [],
   "source": [
    "def visualize_de_bruijn(st, k):\n",
    "    \"\"\" Visualize a directed multigraph using graphviz \"\"\"\n",
    "    nodes, edges = de_bruijn_ize(st, k)\n",
    "    dot_str = 'digraph \"DeBruijn graph\" {\\n'\n",
    "    for node in nodes:\n",
    "        dot_str += '  %s [label=\"%s\"] ;\\n' % (node, node)\n",
    "    for src, dst in edges:\n",
    "        dot_str += '  %s -> %s ;\\n' % (src, dst)\n",
    "    return dot_str + '}\\n'"
   ]
  },
  {
   "cell_type": "code",
   "execution_count": 4,
   "metadata": {},
   "outputs": [],
   "source": [
    "# might have to do this first:\n",
    "%load_ext gvmagic\n"
   ]
  },
  {
   "cell_type": "code",
   "execution_count": 9,
   "metadata": {},
   "outputs": [
    {
     "data": {
      "image/svg+xml": [
       "<svg height=\"260pt\" viewBox=\"0.00 0.00 146.88 260.00\" width=\"147pt\" xmlns=\"http://www.w3.org/2000/svg\" xmlns:xlink=\"http://www.w3.org/1999/xlink\">\n",
       "<g class=\"graph\" id=\"graph0\" transform=\"scale(1 1) rotate(0) translate(4 256)\">\n",
       "<title>DeBruijn graph</title>\n",
       "<polygon fill=\"#ffffff\" points=\"-4,4 -4,-256 142.8825,-256 142.8825,4 -4,4\" stroke=\"transparent\"/>\n",
       "<!-- CG -->\n",
       "<g class=\"node\" id=\"node1\">\n",
       "<title>CG</title>\n",
       "<ellipse cx=\"99\" cy=\"-162\" fill=\"none\" rx=\"27\" ry=\"18\" stroke=\"#000000\"/>\n",
       "<text fill=\"#000000\" font-family=\"Times,serif\" font-size=\"14.00\" text-anchor=\"middle\" x=\"99\" y=\"-157.8\">CG</text>\n",
       "</g>\n",
       "<!-- GT -->\n",
       "<g class=\"node\" id=\"node3\">\n",
       "<title>GT</title>\n",
       "<ellipse cx=\"27\" cy=\"-90\" fill=\"none\" rx=\"27\" ry=\"18\" stroke=\"#000000\"/>\n",
       "<text fill=\"#000000\" font-family=\"Times,serif\" font-size=\"14.00\" text-anchor=\"middle\" x=\"27\" y=\"-85.8\">GT</text>\n",
       "</g>\n",
       "<!-- CG&#45;&gt;GT -->\n",
       "<g class=\"edge\" id=\"edge4\">\n",
       "<title>CG-&gt;GT</title>\n",
       "<path d=\"M83.7307,-146.7307C73.803,-136.803 60.6847,-123.6847 49.5637,-112.5637\" fill=\"none\" stroke=\"#000000\"/>\n",
       "<polygon fill=\"#000000\" points=\"51.7933,-109.8436 42.2473,-105.2473 46.8436,-114.7933 51.7933,-109.8436\" stroke=\"#000000\"/>\n",
       "</g>\n",
       "<!-- GC -->\n",
       "<g class=\"node\" id=\"node4\">\n",
       "<title>GC</title>\n",
       "<ellipse cx=\"99\" cy=\"-90\" fill=\"none\" rx=\"27\" ry=\"18\" stroke=\"#000000\"/>\n",
       "<text fill=\"#000000\" font-family=\"Times,serif\" font-size=\"14.00\" text-anchor=\"middle\" x=\"99\" y=\"-85.8\">GC</text>\n",
       "</g>\n",
       "<!-- CG&#45;&gt;GC -->\n",
       "<g class=\"edge\" id=\"edge2\">\n",
       "<title>CG-&gt;GC</title>\n",
       "<path d=\"M93.0843,-144.2022C92.2798,-136.1807 92.0571,-126.5231 92.4162,-117.5957\" fill=\"none\" stroke=\"#000000\"/>\n",
       "<polygon fill=\"#000000\" points=\"95.9097,-117.8099 93.105,-107.593 88.9262,-117.3289 95.9097,-117.8099\" stroke=\"#000000\"/>\n",
       "</g>\n",
       "<!-- TC -->\n",
       "<g class=\"node\" id=\"node2\">\n",
       "<title>TC</title>\n",
       "<ellipse cx=\"90\" cy=\"-18\" fill=\"none\" rx=\"27\" ry=\"18\" stroke=\"#000000\"/>\n",
       "<text fill=\"#000000\" font-family=\"Times,serif\" font-size=\"14.00\" text-anchor=\"middle\" x=\"90\" y=\"-13.8\">TC</text>\n",
       "</g>\n",
       "<!-- TC&#45;&gt;CG -->\n",
       "<g class=\"edge\" id=\"edge6\">\n",
       "<title>TC-&gt;CG</title>\n",
       "<path d=\"M106.669,-32.1852C117.003,-42.1296 129.35,-56.3945 135,-72 140.4468,-87.0443 139.6365,-92.6865 135,-108 131.7339,-118.7873 125.5236,-129.3892 119.1687,-138.3037\" fill=\"none\" stroke=\"#000000\"/>\n",
       "<polygon fill=\"#000000\" points=\"116.3715,-136.1999 113.1229,-146.2844 121.9513,-140.4268 116.3715,-136.1999\" stroke=\"#000000\"/>\n",
       "</g>\n",
       "<!-- GT&#45;&gt;TC -->\n",
       "<g class=\"edge\" id=\"edge5\">\n",
       "<title>GT-&gt;TC</title>\n",
       "<path d=\"M40.6701,-74.3771C49.1734,-64.659 60.2613,-51.987 69.7708,-41.1191\" fill=\"none\" stroke=\"#000000\"/>\n",
       "<polygon fill=\"#000000\" points=\"72.4056,-43.423 76.3566,-33.5924 67.1375,-38.8135 72.4056,-43.423\" stroke=\"#000000\"/>\n",
       "</g>\n",
       "<!-- GC&#45;&gt;CG -->\n",
       "<g class=\"edge\" id=\"edge3\">\n",
       "<title>GC-&gt;CG</title>\n",
       "<path d=\"M104.895,-107.593C105.7094,-115.5865 105.942,-125.2363 105.5928,-134.1759\" fill=\"none\" stroke=\"#000000\"/>\n",
       "<polygon fill=\"#000000\" points=\"102.0976,-133.9891 104.9157,-144.2022 109.0817,-134.4608 102.0976,-133.9891\" stroke=\"#000000\"/>\n",
       "</g>\n",
       "<!-- AC -->\n",
       "<g class=\"node\" id=\"node5\">\n",
       "<title>AC</title>\n",
       "<ellipse cx=\"99\" cy=\"-234\" fill=\"none\" rx=\"27\" ry=\"18\" stroke=\"#000000\"/>\n",
       "<text fill=\"#000000\" font-family=\"Times,serif\" font-size=\"14.00\" text-anchor=\"middle\" x=\"99\" y=\"-229.8\">AC</text>\n",
       "</g>\n",
       "<!-- AC&#45;&gt;CG -->\n",
       "<g class=\"edge\" id=\"edge1\">\n",
       "<title>AC-&gt;CG</title>\n",
       "<path d=\"M99,-215.8314C99,-208.131 99,-198.9743 99,-190.4166\" fill=\"none\" stroke=\"#000000\"/>\n",
       "<polygon fill=\"#000000\" points=\"102.5001,-190.4132 99,-180.4133 95.5001,-190.4133 102.5001,-190.4132\" stroke=\"#000000\"/>\n",
       "</g>\n",
       "</g>\n",
       "</svg>"
      ],
      "text/plain": [
       "<IPython.core.display.SVG object>"
      ]
     },
     "metadata": {},
     "output_type": "display_data"
    }
   ],
   "source": [
    "%dotstr visualize_de_bruijn(\"ACGCGTCG\", 3)"
   ]
  }
 ],
 "metadata": {
  "kernelspec": {
   "display_name": "Python 3",
   "language": "python",
   "name": "python3"
  },
  "language_info": {
   "codemirror_mode": {
    "name": "ipython",
    "version": 3
   },
   "file_extension": ".py",
   "mimetype": "text/x-python",
   "name": "python",
   "nbconvert_exporter": "python",
   "pygments_lexer": "ipython3",
   "version": "3.6.7"
  }
 },
 "nbformat": 4,
 "nbformat_minor": 1
}

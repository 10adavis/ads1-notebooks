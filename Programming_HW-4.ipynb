{
 "cells": [
  {
   "cell_type": "code",
   "execution_count": 56,
   "metadata": {},
   "outputs": [],
   "source": [
    "def overlap(a, b, min_length=3):\n",
    "    \"\"\" Return length of longest suffix of 'a' matching\n",
    "        a prefix of 'b' that is at least 'min_length'\n",
    "        characters long.  If no such overlap exists,\n",
    "        return 0. \"\"\"\n",
    "    start = 0  # start all the way at the left\n",
    "    while True:\n",
    "        start = a.find(b[:min_length], start)  # look for b's prefix in a\n",
    "        if start == -1:  # no more occurrences to right\n",
    "            return 0\n",
    "        # found occurrence; check for full suffix/prefix match\n",
    "        if b.startswith(a[start:]):\n",
    "            return len(a)-start\n",
    "        start += 1  # move just past previous match"
   ]
  },
  {
   "cell_type": "code",
   "execution_count": 57,
   "metadata": {},
   "outputs": [],
   "source": [
    "def phraseReads(reads, k_mer):\n",
    "    \"\"\"\n",
    "    construct the prefix and suffix of a read to a dictionary with read as\n",
    "    key and pre-,suffix as values\n",
    "    \"\"\"\n",
    "    reads_dict = {}\n",
    "    for read in reads:\n",
    "        for i in range(len(read) - k_mer + 1):\n",
    "            substring = read[i:i+k_mer]\n",
    "            if substring not in reads_dict:\n",
    "                reads_dict[substring] = set([read])\n",
    "            else:\n",
    "                reads_dict[substring].add(read)\n",
    "    return reads_dict    "
   ]
  },
  {
   "cell_type": "code",
   "execution_count": 58,
   "metadata": {},
   "outputs": [],
   "source": [
    "def bestOverlapFast(reads, k_mer):\n",
    "    \"\"\"\n",
    "    return the reads pair and maxium length of the overlapped pair in reads \n",
    "    \"\"\"\n",
    "    reads_dict = phraseReads(reads, k_mer)\n",
    "    read_a, read_b = None, None\n",
    "    best_overlap = 0\n",
    "    for read1 in reads:\n",
    "        k_mer_string = read1[len(read1) - k_mer:]\n",
    "        if k_mer_string in reads_dict:\n",
    "            reads_set = reads_dict[k_mer_string]\n",
    "            for read2 in reads_set:\n",
    "                if read1 != read2: #skip self comparison\n",
    "                    offset = overlap(read1, read2, k_mer) \n",
    "                    if offset > best_overlap: # skip non-overlapped pairs\n",
    "                        best_overlap = offset\n",
    "                        read_a, read_b = read1, read2\n",
    "    return read_a, read_b, best_overlap"
   ]
  },
  {
   "cell_type": "code",
   "execution_count": 59,
   "metadata": {},
   "outputs": [],
   "source": [
    "import itertools\n",
    "\n",
    "def scs(ss):\n",
    "    \"\"\" Returns shortest common superstring of given strings,\n",
    "        assuming no string is a strict substring of another \"\"\"\n",
    "    shortest_sup = None\n",
    "    for ssperm in itertools.permutations(ss):\n",
    "        sup = ssperm[0]  # superstring starts as first string\n",
    "        for i in range(len(ss)-1):\n",
    "            # overlap adjacent strings A and B in the permutation\n",
    "            olen = overlap(ssperm[i], ssperm[i+1], min_length=1)\n",
    "            # add non-overlapping portion of B to superstring\n",
    "            #sup += ssperm[i+1][-(len(ssperm[i+1])-olen):]\n",
    "            sup += ssperm[i+1][olen:]\n",
    "        if shortest_sup is None or len(sup) < len(shortest_sup):\n",
    "            shortest_sup = sup  # found shorter superstring\n",
    "    return shortest_sup  # return shortest"
   ]
  },
  {
   "cell_type": "code",
   "execution_count": 60,
   "metadata": {},
   "outputs": [],
   "source": [
    "\n",
    "# This function finds the 2 reads with the maximal overlap, which is the first step in implementing gcs\n",
    "def pick_maximal_overlap(reads, k):\n",
    "    \"\"\" Return a pair of reads from the list with a\n",
    "        maximal suffix/prefix overlap >= k.  Returns\n",
    "        overlap length 0 if there are no such overlaps.\"\"\"\n",
    "    reada, readb = None, None\n",
    "    best_olen = 0\n",
    "    for a, b in itertools.permutations(reads, 2):\n",
    "        olen = overlap(a, b, min_length=k)\n",
    "        if olen > best_olen:\n",
    "            reada, readb = a, b\n",
    "            best_olen = olen\n",
    "    return reada, readb, best_olen  #return the two reads with the best overlap, along with the length\n",
    "\n",
    "\n",
    "\n",
    "\n",
    "def overlapGraph(self, k_mer):\n",
    "    \"\"\"\n",
    "    construct graph with key as a read (node) and values as all other \n",
    "    reads overlapped with the previous read (node)\n",
    "    \"\"\"\n",
    "    reads_dict = self.phraseReads(k_mer)\n",
    "    reads, _= self.readFastq()\n",
    "    graph = {}\n",
    "    for read1 in reads:\n",
    "        k_mer_string = read1[len(read1) - k_mer:]\n",
    "        if k_mer_string in reads_dict:\n",
    "            edges = set([])\n",
    "            reads_set = reads_dict[k_mer_string]\n",
    "            for read2 in reads_set:\n",
    "                if read1 != read2: #skip self comparison\n",
    "                    offset = self.overlap(read1, read2, k_mer)           \n",
    "                    if offset > 0: # skip non-overlapped pairs\n",
    "                        edges.add(read2) #add overlapped reads to be values\n",
    "                        graph[read1] = edges           \n",
    "    return graph\n",
    "\n",
    "\n"
   ]
  },
  {
   "cell_type": "code",
   "execution_count": 61,
   "metadata": {},
   "outputs": [],
   "source": [
    "def greedy_scs(reads, k):\n",
    "    \"\"\" Greedy shortest-common-superstring merge.\n",
    "        Repeat until no edges (overlaps of length >= k)\n",
    "        remain. \"\"\"\n",
    "    read_a, read_b, olen = bestOverlapFast(reads, k) \n",
    "    while olen > 0:\n",
    "        reads.remove(read_a) # remove the read a\n",
    "        reads.remove(read_b) # remove read b\n",
    "        reads.append(read_a + read_b[olen:])  # add the merged two reads to the list\n",
    "        read_a, read_b, olen = bestOverlapFast(reads, k)  \n",
    "    return ''.join(reads)   # return the concatenated reads, then simply merge (if any) reads that are left over"
   ]
  },
  {
   "cell_type": "code",
   "execution_count": 62,
   "metadata": {},
   "outputs": [],
   "source": [
    "def de_bruijn_ize(st, k):\n",
    "    \"\"\" Return a list holding, for each k-mer, its left\n",
    "        k-1-mer and its right k-1-mer in a pair \"\"\"\n",
    "    edges = []\n",
    "    nodes = set()\n",
    "    for i in range(len(st) - k + 1):\n",
    "        edges.append((st[i:i+k-1], st[i+1:i+k])) # get the L and R k-1 mers\n",
    "        nodes.add(st[i:i+k-1]) # add the first k-1 mer as a node\n",
    "        nodes.add(st[i+1:i+k]) # add the second k-1 mer as a node\n",
    "    return nodes, edges  # re"
   ]
  },
  {
   "cell_type": "code",
   "execution_count": 63,
   "metadata": {},
   "outputs": [],
   "source": [
    "nodes, edges = de_bruijn_ize(\"ACGCGTCG\", 3)"
   ]
  },
  {
   "cell_type": "code",
   "execution_count": 64,
   "metadata": {},
   "outputs": [
    {
     "data": {
      "text/plain": [
       "{'AC', 'CG', 'GC', 'GT', 'TC'}"
      ]
     },
     "execution_count": 64,
     "metadata": {},
     "output_type": "execute_result"
    }
   ],
   "source": [
    "nodes"
   ]
  },
  {
   "cell_type": "code",
   "execution_count": 65,
   "metadata": {},
   "outputs": [
    {
     "data": {
      "text/plain": [
       "[('AC', 'CG'),\n",
       " ('CG', 'GC'),\n",
       " ('GC', 'CG'),\n",
       " ('CG', 'GT'),\n",
       " ('GT', 'TC'),\n",
       " ('TC', 'CG')]"
      ]
     },
     "execution_count": 65,
     "metadata": {},
     "output_type": "execute_result"
    }
   ],
   "source": [
    "edges # this is the Eulerian walk through the graph"
   ]
  },
  {
   "cell_type": "code",
   "execution_count": 66,
   "metadata": {},
   "outputs": [],
   "source": [
    "def visualize_de_bruijn(st, k):\n",
    "    \"\"\" Visualize a directed multigraph using graphviz \"\"\"\n",
    "    nodes, edges = de_bruijn_ize(st, k)\n",
    "    dot_str = 'digraph \"DeBruijn graph\" {\\n'\n",
    "    for node in nodes:\n",
    "        dot_str += '  %s [label=\"%s\"] ;\\n' % (node, node)\n",
    "    for src, dst in edges:\n",
    "        dot_str += '  %s -> %s ;\\n' % (src, dst)\n",
    "    return dot_str + '}\\n'"
   ]
  },
  {
   "cell_type": "code",
   "execution_count": 67,
   "metadata": {},
   "outputs": [
    {
     "name": "stdout",
     "output_type": "stream",
     "text": [
      "The gvmagic extension is already loaded. To reload it, use:\n",
      "  %reload_ext gvmagic\n"
     ]
    }
   ],
   "source": [
    "# might have to do this first:\n",
    "%load_ext gvmagic\n"
   ]
  },
  {
   "cell_type": "code",
   "execution_count": 68,
   "metadata": {},
   "outputs": [
    {
     "data": {
      "image/svg+xml": [
       "<svg height=\"260pt\" viewBox=\"0.00 0.00 172.00 260.00\" width=\"172pt\" xmlns=\"http://www.w3.org/2000/svg\" xmlns:xlink=\"http://www.w3.org/1999/xlink\">\n",
       "<g class=\"graph\" id=\"graph0\" transform=\"scale(1 1) rotate(0) translate(4 256)\">\n",
       "<title>DeBruijn graph</title>\n",
       "<polygon fill=\"#ffffff\" points=\"-4,4 -4,-256 168,-256 168,4 -4,4\" stroke=\"transparent\"/>\n",
       "<!-- GT -->\n",
       "<g class=\"node\" id=\"node1\">\n",
       "<title>GT</title>\n",
       "<ellipse cx=\"54\" cy=\"-234\" fill=\"none\" rx=\"27\" ry=\"18\" stroke=\"#000000\"/>\n",
       "<text fill=\"#000000\" font-family=\"Times,serif\" font-size=\"14.00\" text-anchor=\"middle\" x=\"54\" y=\"-229.8\">GT</text>\n",
       "</g>\n",
       "<!-- TC -->\n",
       "<g class=\"node\" id=\"node4\">\n",
       "<title>TC</title>\n",
       "<ellipse cx=\"27\" cy=\"-162\" fill=\"none\" rx=\"27\" ry=\"18\" stroke=\"#000000\"/>\n",
       "<text fill=\"#000000\" font-family=\"Times,serif\" font-size=\"14.00\" text-anchor=\"middle\" x=\"27\" y=\"-157.8\">TC</text>\n",
       "</g>\n",
       "<!-- GT&#45;&gt;TC -->\n",
       "<g class=\"edge\" id=\"edge5\">\n",
       "<title>GT-&gt;TC</title>\n",
       "<path d=\"M47.3258,-216.2022C44.2524,-208.0064 40.5384,-198.1024 37.1305,-189.0145\" fill=\"none\" stroke=\"#000000\"/>\n",
       "<polygon fill=\"#000000\" points=\"40.3858,-187.7274 33.5974,-179.593 33.8315,-190.1853 40.3858,-187.7274\" stroke=\"#000000\"/>\n",
       "</g>\n",
       "<!-- AC -->\n",
       "<g class=\"node\" id=\"node2\">\n",
       "<title>AC</title>\n",
       "<ellipse cx=\"137\" cy=\"-162\" fill=\"none\" rx=\"27\" ry=\"18\" stroke=\"#000000\"/>\n",
       "<text fill=\"#000000\" font-family=\"Times,serif\" font-size=\"14.00\" text-anchor=\"middle\" x=\"137\" y=\"-157.8\">AC</text>\n",
       "</g>\n",
       "<!-- CG -->\n",
       "<g class=\"node\" id=\"node3\">\n",
       "<title>CG</title>\n",
       "<ellipse cx=\"82\" cy=\"-90\" fill=\"none\" rx=\"27\" ry=\"18\" stroke=\"#000000\"/>\n",
       "<text fill=\"#000000\" font-family=\"Times,serif\" font-size=\"14.00\" text-anchor=\"middle\" x=\"82\" y=\"-85.8\">CG</text>\n",
       "</g>\n",
       "<!-- AC&#45;&gt;CG -->\n",
       "<g class=\"edge\" id=\"edge1\">\n",
       "<title>AC-&gt;CG</title>\n",
       "<path d=\"M124.5196,-145.6621C117.4876,-136.4564 108.5653,-124.7764 100.7117,-114.4953\" fill=\"none\" stroke=\"#000000\"/>\n",
       "<polygon fill=\"#000000\" points=\"103.2828,-112.0953 94.431,-106.2733 97.72,-116.3446 103.2828,-112.0953\" stroke=\"#000000\"/>\n",
       "</g>\n",
       "<!-- CG&#45;&gt;GT -->\n",
       "<g class=\"edge\" id=\"edge4\">\n",
       "<title>CG-&gt;GT</title>\n",
       "<path d=\"M78.4664,-108.1727C73.6642,-132.8697 65.0329,-177.2595 59.4117,-206.1684\" fill=\"none\" stroke=\"#000000\"/>\n",
       "<polygon fill=\"#000000\" points=\"55.9627,-205.5692 57.4896,-216.0535 62.834,-206.9054 55.9627,-205.5692\" stroke=\"#000000\"/>\n",
       "</g>\n",
       "<!-- GC -->\n",
       "<g class=\"node\" id=\"node5\">\n",
       "<title>GC</title>\n",
       "<ellipse cx=\"82\" cy=\"-18\" fill=\"none\" rx=\"27\" ry=\"18\" stroke=\"#000000\"/>\n",
       "<text fill=\"#000000\" font-family=\"Times,serif\" font-size=\"14.00\" text-anchor=\"middle\" x=\"82\" y=\"-13.8\">GC</text>\n",
       "</g>\n",
       "<!-- CG&#45;&gt;GC -->\n",
       "<g class=\"edge\" id=\"edge2\">\n",
       "<title>CG-&gt;GC</title>\n",
       "<path d=\"M76.0843,-72.2022C75.2798,-64.1807 75.0571,-54.5231 75.4162,-45.5957\" fill=\"none\" stroke=\"#000000\"/>\n",
       "<polygon fill=\"#000000\" points=\"78.9097,-45.8099 76.105,-35.593 71.9262,-45.3289 78.9097,-45.8099\" stroke=\"#000000\"/>\n",
       "</g>\n",
       "<!-- TC&#45;&gt;CG -->\n",
       "<g class=\"edge\" id=\"edge6\">\n",
       "<title>TC-&gt;CG</title>\n",
       "<path d=\"M39.4804,-145.6621C46.5124,-136.4564 55.4347,-124.7764 63.2883,-114.4953\" fill=\"none\" stroke=\"#000000\"/>\n",
       "<polygon fill=\"#000000\" points=\"66.28,-116.3446 69.569,-106.2733 60.7172,-112.0953 66.28,-116.3446\" stroke=\"#000000\"/>\n",
       "</g>\n",
       "<!-- GC&#45;&gt;CG -->\n",
       "<g class=\"edge\" id=\"edge3\">\n",
       "<title>GC-&gt;CG</title>\n",
       "<path d=\"M87.895,-35.593C88.7094,-43.5865 88.942,-53.2363 88.5928,-62.1759\" fill=\"none\" stroke=\"#000000\"/>\n",
       "<polygon fill=\"#000000\" points=\"85.0976,-61.9891 87.9157,-72.2022 92.0817,-62.4608 85.0976,-61.9891\" stroke=\"#000000\"/>\n",
       "</g>\n",
       "</g>\n",
       "</svg>"
      ],
      "text/plain": [
       "<IPython.core.display.SVG object>"
      ]
     },
     "metadata": {},
     "output_type": "display_data"
    }
   ],
   "source": [
    "%dotstr visualize_de_bruijn(\"ACGCGTCG\", 3)"
   ]
  },
  {
   "cell_type": "markdown",
   "metadata": {},
   "source": [
    "\n",
    "Question #1:\n",
    "It's possible for there to be multiple different shortest common superstrings for the same set of input strings. Consider the input strings ABC\\verb|ABC|ABC, BCA\\verb|BCA|BCA, CAB\\verb|CAB|CAB. One shortest common superstring is ABCAB\\verb|ABCAB|ABCAB but another is BCABC\\verb|BCABC|BCABC and another is CABCA\\verb|CABCA|CABCA.\n",
    "\n",
    "What is the length of the shortest common superstring of the following strings?\n",
    "\n",
    "CCT, CTT, TGC, TGG, GAT, ATT"
   ]
  },
  {
   "cell_type": "code",
   "execution_count": 69,
   "metadata": {},
   "outputs": [
    {
     "data": {
      "text/plain": [
       "11"
      ]
     },
     "execution_count": 69,
     "metadata": {},
     "output_type": "execute_result"
    }
   ],
   "source": [
    "len(scs(['CCT', 'CTT', 'TGC', 'TGG', 'GAT', 'ATT'\n",
    "]))"
   ]
  },
  {
   "cell_type": "code",
   "execution_count": 97,
   "metadata": {},
   "outputs": [],
   "source": [
    "def scs_track(ss):\n",
    "    \"\"\" Returns shortest common superstring of given strings,\n",
    "        assuming no string is a strict substring of another \"\"\"\n",
    "    shortest_sup = None\n",
    "    num_ss = 0\n",
    "    for ssperm in itertools.permutations(ss):\n",
    "        sup = ssperm[0]  # superstring starts as first string\n",
    "        for i in range(len(ss)-1):\n",
    "            # overlap adjacent strings A and B in the permutation\n",
    "            olen = overlap(ssperm[i], ssperm[i+1], min_length=1)\n",
    "            # add non-overlapping portion of B to superstring\n",
    "            #sup += ssperm[i+1][-(len(ssperm[i+1])-olen):]\n",
    "            sup += ssperm[i+1][olen:]\n",
    "        if shortest_sup is None or len(sup) < len(shortest_sup):\n",
    "            shortest_sup = sup  # found shorter superstring\n",
    "    for ssperm in itertools.permutations(ss):\n",
    "        sup = ssperm[0]  # superstring starts as first string\n",
    "        for j in range(len(ss)-1):\n",
    "            # overlap adjacent strings A and B in the permutation\n",
    "            olen = overlap(ssperm[j], ssperm[j+1], min_length=1)\n",
    "            # add non-overlapping portion of B to superstring\n",
    "            #sup += ssperm[i+1][-(len(ssperm[i+1])-olen):]\n",
    "            sup += ssperm[j+1][olen:]\n",
    "        if len(sup) == len(shortest_sup):\n",
    "            num_ss = num_ss+1\n",
    "    return shortest_sup, num_ss  # return shortest"
   ]
  },
  {
   "cell_type": "markdown",
   "metadata": {},
   "source": [
    "How many different shortest common superstrings are there for the input strings given in the previous question?\n",
    "\n",
    "Hint 1: You can modify the scs\\verb|scs|scs function to keep track of this.\n",
    "\n",
    "Hint 2: You can look at these examples to double-check that your modified scs\\verb|scs|scs is working as expected. "
   ]
  },
  {
   "cell_type": "code",
   "execution_count": 98,
   "metadata": {},
   "outputs": [
    {
     "data": {
      "text/plain": [
       "('CCTTGGATTGC', 4)"
      ]
     },
     "execution_count": 98,
     "metadata": {},
     "output_type": "execute_result"
    }
   ],
   "source": [
    "scs_track(['CCT', 'CTT', 'TGC', 'TGG', 'GAT', 'ATT'\n",
    "])"
   ]
  },
  {
   "cell_type": "code",
   "execution_count": 99,
   "metadata": {},
   "outputs": [
    {
     "data": {
      "text/plain": [
       "('ABCAB', 3)"
      ]
     },
     "execution_count": 99,
     "metadata": {},
     "output_type": "execute_result"
    }
   ],
   "source": [
    "strings = ['ABC', 'BCA', 'CAB']\n",
    "scs_track(strings)"
   ]
  },
  {
   "cell_type": "code",
   "execution_count": 101,
   "metadata": {},
   "outputs": [
    {
     "data": {
      "text/plain": [
       "('TCGATGCAATAG', 10)"
      ]
     },
     "execution_count": 101,
     "metadata": {},
     "output_type": "execute_result"
    }
   ],
   "source": [
    "strings2 = ['GAT', 'TAG', 'TCG', 'TGC', 'AAT', 'ATA']\n",
    "scs_track(strings2)"
   ]
  },
  {
   "cell_type": "markdown",
   "metadata": {},
   "source": [
    "Download this FASTQ file containing synthetic sequencing reads from a mystery virus:\n",
    "\n",
    "https://d28rh4a8wq0iu5.cloudfront.net/ads1/data/ads1_week4_reads.fq\n",
    "\n",
    "All the reads are the same length (100 bases) and are exact copies of substrings from the forward strand of the virus genome. You don't have to worry about sequencing errors, ploidy, or reads coming from the reverse strand.\n",
    "\n",
    "Assemble these reads using one of the approaches discussed, such as greedy shortest common superstring. Since there are many reads, you might consider ways to make the algorithm faster, such as the one discussed in the programming assignment in the previous module.\n",
    "\n",
    "How many As are there in the full, assembled genome?\n",
    "\n",
    "Hint: the virus genome you are assembling is exactly 15,894 bases long\n"
   ]
  },
  {
   "cell_type": "code",
   "execution_count": 47,
   "metadata": {},
   "outputs": [],
   "source": [
    "def readFastq(fastq):\n",
    "    \"\"\"\n",
    "    read dna sequence and quality base from a fastq sequencing file to lists\n",
    "    \"\"\"\n",
    "    with open (fastq, \"r\") as f:\n",
    "        sequences = []\n",
    "        qualities = []\n",
    "        while True:\n",
    "            f.readline() # skip name line\n",
    "            seq = f.readline().rstrip() # read sequence line\n",
    "            f.readline() # skip strand line\n",
    "            qual = f.readline().rstrip() # read quality line\n",
    "            if len(seq) == 0: #finish read\n",
    "                break\n",
    "            # add seqence and quality information to list\n",
    "            sequences.append(seq)\n",
    "            qualities.append(qual)\n",
    "        f.close()\n",
    "    return sequences"
   ]
  },
  {
   "cell_type": "code",
   "execution_count": 49,
   "metadata": {},
   "outputs": [],
   "source": [
    "filename = (\"ads1_week4_reads.fq\")\n",
    "virus_reads = readFastq(filename)\n",
    "genome = greedy_scs(virus_reads,10)\n"
   ]
  },
  {
   "cell_type": "markdown",
   "metadata": {},
   "source": [
    "How many Ts are there in the full, assembled genome from the previous question?"
   ]
  },
  {
   "cell_type": "code",
   "execution_count": 102,
   "metadata": {},
   "outputs": [],
   "source": [
    "def countNt(sequence):\n",
    "    \"\"\"count number of each base in a given sequence\n",
    "    \"\"\"\n",
    "    dict_count = {\"A\":0, \"C\":0, \"G\":0, \"T\":0, \"N\":0}\n",
    "    for nt in sequence:\n",
    "        if nt in dict_count:\n",
    "            dict_count[nt] = dict_count.get(nt) + 1\n",
    "        else:\n",
    "            dict_count[nt] = 1\n",
    "    return dict_count"
   ]
  },
  {
   "cell_type": "code",
   "execution_count": 103,
   "metadata": {},
   "outputs": [
    {
     "name": "stdout",
     "output_type": "stream",
     "text": [
      "15894\n"
     ]
    },
    {
     "data": {
      "text/plain": [
       "{'A': 4633, 'C': 3789, 'G': 3749, 'T': 3723, 'N': 0}"
      ]
     },
     "execution_count": 103,
     "metadata": {},
     "output_type": "execute_result"
    }
   ],
   "source": [
    "print(len(genome))\n",
    "countNt(genome)"
   ]
  }
 ],
 "metadata": {
  "kernelspec": {
   "display_name": "Python 3",
   "language": "python",
   "name": "python3"
  },
  "language_info": {
   "codemirror_mode": {
    "name": "ipython",
    "version": 3
   },
   "file_extension": ".py",
   "mimetype": "text/x-python",
   "name": "python",
   "nbconvert_exporter": "python",
   "pygments_lexer": "ipython3",
   "version": "3.6.7"
  }
 },
 "nbformat": 4,
 "nbformat_minor": 1
}

{
 "cells": [
  {
   "cell_type": "code",
   "execution_count": null,
   "metadata": {
    "scrolled": false
   },
   "outputs": [],
   "source": [
    "!wget http://d28rh4a8wq0iu5.cloudfront.net/ads1/data/phix.fa"
   ]
  },
  {
   "cell_type": "code",
   "execution_count": 16,
   "metadata": {},
   "outputs": [],
   "source": [
    "def readGenome(filename):\n",
    "    genome = ''\n",
    "    with open(filename, 'r') as f:\n",
    "        for line in f:\n",
    "            # ignore header line with genome information\n",
    "            if not line[0] == '>':\n",
    "                genome += line.rstrip()\n",
    "    return genome"
   ]
  },
  {
   "cell_type": "code",
   "execution_count": 17,
   "metadata": {},
   "outputs": [],
   "source": [
    "genome = readGenome('phix.fa')"
   ]
  },
  {
   "cell_type": "code",
   "execution_count": 18,
   "metadata": {},
   "outputs": [],
   "source": [
    "def naive(p, t):\n",
    "    occurrences = []\n",
    "    for i in range(len(t) - len(p) + 1):\n",
    "        match = True\n",
    "        for j in range(len(p)):\n",
    "            if t[i+j] != p[j]:\n",
    "                match = False\n",
    "                break\n",
    "        if match:\n",
    "            occurrences.append(i)\n",
    "    return occurrences\n",
    "# this will yield a list of the positions where a match occurs in the template t"
   ]
  },
  {
   "cell_type": "code",
   "execution_count": 19,
   "metadata": {},
   "outputs": [
    {
     "data": {
      "text/plain": [
       "[0, 5, 9]"
      ]
     },
     "execution_count": 19,
     "metadata": {},
     "output_type": "execute_result"
    }
   ],
   "source": [
    "t = 'AGCTTAGATAGC'\n",
    "p = 'AG'\n",
    "naive(p, t)"
   ]
  },
  {
   "cell_type": "code",
   "execution_count": 20,
   "metadata": {},
   "outputs": [],
   "source": [
    "import random\n",
    "def generateReads(genome, numReads, readLen):\n",
    "    ''' Generate reads from random positions in the given genome. '''\n",
    "    reads = []\n",
    "    for _ in range(numReads):\n",
    "        start = random.randint(0, len(genome)-readLen) - 1\n",
    "        reads.append(genome[start : start+readLen])\n",
    "    return reads"
   ]
  },
  {
   "cell_type": "code",
   "execution_count": 21,
   "metadata": {},
   "outputs": [
    {
     "name": "stdout",
     "output_type": "stream",
     "text": [
      "100 / 100 reads matched the genome exactly!\n"
     ]
    }
   ],
   "source": [
    "# Generate 100 reads of length 100\n",
    "reads = generateReads(genome, 100, 100)\n",
    "\n",
    "# Count how many reads match the genome exactly\n",
    "numMatched = 0\n",
    "for r in reads:\n",
    "    matches = naive(r, genome)\n",
    "    if len(matches) > 0:\n",
    "        numMatched += 1\n",
    "print('%d / %d reads matched the genome exactly!' % (numMatched, len(reads)))"
   ]
  },
  {
   "cell_type": "code",
   "execution_count": null,
   "metadata": {
    "scrolled": false
   },
   "outputs": [],
   "source": [
    "!wget http://d28rh4a8wq0iu5.cloudfront.net/ads1/data/ERR266411_1.first1000.fastq"
   ]
  },
  {
   "cell_type": "code",
   "execution_count": 22,
   "metadata": {},
   "outputs": [],
   "source": [
    "def readFastq(filename):\n",
    "    sequences = []\n",
    "    qualities = []\n",
    "    with open(filename) as fh:\n",
    "        while True:\n",
    "            fh.readline() # skip name line\n",
    "            seq = fh.readline().rstrip() # read base sequence\n",
    "            fh.readline() # skip placeholder line\n",
    "            qual = fh.readline().rstrip() #base quality line\n",
    "            if len(seq) == 0:\n",
    "                break\n",
    "            sequences.append(seq)\n",
    "            qualities.append(qual)\n",
    "    return sequences, qualities\n"
   ]
  },
  {
   "cell_type": "code",
   "execution_count": 23,
   "metadata": {
    "scrolled": true
   },
   "outputs": [],
   "source": [
    "phix_reads = readFastq('ERR266411_1.first1000.fastq')"
   ]
  },
  {
   "cell_type": "code",
   "execution_count": 24,
   "metadata": {},
   "outputs": [
    {
     "name": "stdout",
     "output_type": "stream",
     "text": [
      "0 / 2 reads matched the genome exactly!\n"
     ]
    }
   ],
   "source": [
    "numMatched = 0\n",
    "n = 0\n",
    "for r in phix_reads:    # loop the list of reads that were read in as phix_reads\n",
    "    matches = naive(r, genome)    # use naive match function to test if the reads align to the phix genome\n",
    "    n += 1\n",
    "    if len(matches) > 0:   # is there at least 1 match for a given read (there could be more than one?)\n",
    "        numMatched += 1    # tally the number of aligned reads\n",
    "print('%d / %d reads matched the genome exactly!' % (numMatched, n))\n",
    "# only 7/1000 reads matched exactly - because of sequencing error? may be differences between the sequenced organism and the template\n",
    "# maybe we should just take a part of the read instead?"
   ]
  },
  {
   "cell_type": "code",
   "execution_count": 25,
   "metadata": {},
   "outputs": [
    {
     "name": "stdout",
     "output_type": "stream",
     "text": [
      "0 / 2 reads matched the genome exactly!\n"
     ]
    }
   ],
   "source": [
    "# Now let's try matching just the first 30 bases of each read\n",
    "numMatched = 0\n",
    "n = 0\n",
    "for r in phix_reads:\n",
    "    r = r[:30]  # just taking the first 30 bases\n",
    "    matches = naive(r, genome)\n",
    "    n += 1\n",
    "    if len(matches) > 0:\n",
    "        numMatched += 1\n",
    "print('%d / %d reads matched the genome exactly!' % (numMatched, n))\n",
    "# this improved the matching, but it's still less than 50% - doesn't take into account forward vs. reverse!"
   ]
  },
  {
   "cell_type": "code",
   "execution_count": 26,
   "metadata": {},
   "outputs": [],
   "source": [
    "# Paste in the reverse complement function from 1.02\n",
    "def reverseComplement(s):\n",
    "    complement = {'A': 'T', 'C': 'G', 'G': 'C', 'T': 'A', 'N': 'N'}\n",
    "    t = ''\n",
    "    for base in s:\n",
    "        t = complement[base] + t\n",
    "    return t"
   ]
  },
  {
   "cell_type": "code",
   "execution_count": 27,
   "metadata": {},
   "outputs": [
    {
     "ename": "KeyError",
     "evalue": "'TAAACAAGCAGTAGTAATTCCTGCTTTATCAAGATAATTTTTCGACTCATCAGAAATATCCGAAAGTGTTAACTTCTGCGTCATGGAAGCGATAAAACTC'",
     "output_type": "error",
     "traceback": [
      "\u001b[0;31m---------------------------------------------------------------------------\u001b[0m",
      "\u001b[0;31mKeyError\u001b[0m                                  Traceback (most recent call last)",
      "\u001b[0;32m<ipython-input-27-0fd7a08c4b46>\u001b[0m in \u001b[0;36m<module>\u001b[0;34m\u001b[0m\n\u001b[1;32m      4\u001b[0m     \u001b[0mr\u001b[0m \u001b[0;34m=\u001b[0m \u001b[0mr\u001b[0m\u001b[0;34m[\u001b[0m\u001b[0;34m:\u001b[0m\u001b[0;36m30\u001b[0m\u001b[0;34m]\u001b[0m  \u001b[0;31m# just taking the first 30 bases\u001b[0m\u001b[0;34m\u001b[0m\u001b[0;34m\u001b[0m\u001b[0m\n\u001b[1;32m      5\u001b[0m     \u001b[0mmatches\u001b[0m \u001b[0;34m=\u001b[0m \u001b[0mnaive\u001b[0m\u001b[0;34m(\u001b[0m\u001b[0mr\u001b[0m\u001b[0;34m,\u001b[0m \u001b[0mgenome\u001b[0m\u001b[0;34m)\u001b[0m\u001b[0;34m\u001b[0m\u001b[0;34m\u001b[0m\u001b[0m\n\u001b[0;32m----> 6\u001b[0;31m     \u001b[0mmatches\u001b[0m\u001b[0;34m.\u001b[0m\u001b[0mextend\u001b[0m\u001b[0;34m(\u001b[0m\u001b[0mnaive\u001b[0m\u001b[0;34m(\u001b[0m\u001b[0mreverseComplement\u001b[0m\u001b[0;34m(\u001b[0m\u001b[0mr\u001b[0m\u001b[0;34m)\u001b[0m\u001b[0;34m,\u001b[0m \u001b[0mgenome\u001b[0m\u001b[0;34m)\u001b[0m\u001b[0;34m)\u001b[0m \u001b[0;31m# this adds any matches that occurred on the reverse complement\u001b[0m\u001b[0;34m\u001b[0m\u001b[0;34m\u001b[0m\u001b[0m\n\u001b[0m\u001b[1;32m      7\u001b[0m     \u001b[0mn\u001b[0m \u001b[0;34m+=\u001b[0m \u001b[0;36m1\u001b[0m\u001b[0;34m\u001b[0m\u001b[0;34m\u001b[0m\u001b[0m\n\u001b[1;32m      8\u001b[0m     \u001b[0;32mif\u001b[0m \u001b[0mlen\u001b[0m\u001b[0;34m(\u001b[0m\u001b[0mmatches\u001b[0m\u001b[0;34m)\u001b[0m \u001b[0;34m>\u001b[0m \u001b[0;36m0\u001b[0m\u001b[0;34m:\u001b[0m\u001b[0;34m\u001b[0m\u001b[0;34m\u001b[0m\u001b[0m\n",
      "\u001b[0;32m<ipython-input-26-662a05ba2a9a>\u001b[0m in \u001b[0;36mreverseComplement\u001b[0;34m(s)\u001b[0m\n\u001b[1;32m      4\u001b[0m     \u001b[0mt\u001b[0m \u001b[0;34m=\u001b[0m \u001b[0;34m''\u001b[0m\u001b[0;34m\u001b[0m\u001b[0;34m\u001b[0m\u001b[0m\n\u001b[1;32m      5\u001b[0m     \u001b[0;32mfor\u001b[0m \u001b[0mbase\u001b[0m \u001b[0;32min\u001b[0m \u001b[0ms\u001b[0m\u001b[0;34m:\u001b[0m\u001b[0;34m\u001b[0m\u001b[0;34m\u001b[0m\u001b[0m\n\u001b[0;32m----> 6\u001b[0;31m         \u001b[0mt\u001b[0m \u001b[0;34m=\u001b[0m \u001b[0mcomplement\u001b[0m\u001b[0;34m[\u001b[0m\u001b[0mbase\u001b[0m\u001b[0;34m]\u001b[0m \u001b[0;34m+\u001b[0m \u001b[0mt\u001b[0m\u001b[0;34m\u001b[0m\u001b[0;34m\u001b[0m\u001b[0m\n\u001b[0m\u001b[1;32m      7\u001b[0m     \u001b[0;32mreturn\u001b[0m \u001b[0mt\u001b[0m\u001b[0;34m\u001b[0m\u001b[0;34m\u001b[0m\u001b[0m\n",
      "\u001b[0;31mKeyError\u001b[0m: 'TAAACAAGCAGTAGTAATTCCTGCTTTATCAAGATAATTTTTCGACTCATCAGAAATATCCGAAAGTGTTAACTTCTGCGTCATGGAAGCGATAAAACTC'"
     ]
    }
   ],
   "source": [
    "numMatched = 0\n",
    "n = 0\n",
    "for r in phix_reads:\n",
    "    r = r[:30]  # just taking the first 30 bases\n",
    "    matches = naive(r, genome)\n",
    "    matches.extend(naive(reverseComplement(r), genome)) # this adds any matches that occurred on the reverse complement\n",
    "    n += 1\n",
    "    if len(matches) > 0:\n",
    "        numMatched += 1\n",
    "print('%d / %d reads matched the genome exactly!' % (numMatched, n))\n",
    "# much better!"
   ]
  },
  {
   "cell_type": "markdown",
   "metadata": {},
   "source": [
    "1. Question 1\n",
    "\n",
    "How many times does AGGT or its reverse complement ACCT occur in the lambda virus genome? E.g. if AGGT occurs 10 times and ACCT occurs 12 times, you should report 22."
   ]
  },
  {
   "cell_type": "code",
   "execution_count": 28,
   "metadata": {},
   "outputs": [],
   "source": [
    "lamda = readGenome('lambda_virus.fa')"
   ]
  },
  {
   "cell_type": "code",
   "execution_count": 29,
   "metadata": {},
   "outputs": [],
   "source": [
    "# create a new naive matching algorithm that deals with reverse complement\n",
    "def new_naive(p, t):\n",
    "    r = reverseComplement(p)\n",
    "    if r == p:\n",
    "        return naive(p,t)\n",
    "    else:\n",
    "        return naive(p,t) + naive (r,t)\n",
    "# this will yield a list of the positions where a match occurs in the template t"
   ]
  },
  {
   "cell_type": "code",
   "execution_count": 30,
   "metadata": {
    "scrolled": true
   },
   "outputs": [
    {
     "data": {
      "text/plain": [
       "306"
      ]
     },
     "execution_count": 30,
     "metadata": {},
     "output_type": "execute_result"
    }
   ],
   "source": [
    "match = new_naive(\"AGGT\", lamda)\n",
    "len(match)\n"
   ]
  },
  {
   "cell_type": "code",
   "execution_count": null,
   "metadata": {},
   "outputs": [],
   "source": []
  },
  {
   "cell_type": "code",
   "execution_count": null,
   "metadata": {},
   "outputs": [],
   "source": [
    "forward = naive(\"AGGT\",lamda)\n",
    "len(forward)"
   ]
  },
  {
   "cell_type": "code",
   "execution_count": null,
   "metadata": {},
   "outputs": [],
   "source": [
    "reverse = naive(\"ACCT\",lamda)\n",
    "len(reverse)"
   ]
  },
  {
   "cell_type": "code",
   "execution_count": 31,
   "metadata": {},
   "outputs": [],
   "source": [
    "# naive exact matching algorithm that is strand-aware\n",
    "# Instead of looking only for occurrences of P in T, additionally look for occurrences of the reverse complement of P in T. \n",
    "def naive_with_rc(p, t):\n",
    "    r = reverseComplement(p)\n",
    "    if r == p:\n",
    "        return naive(p,t)\n",
    "    else:\n",
    "        return naive(p,t) + naive(r,t)"
   ]
  },
  {
   "cell_type": "code",
   "execution_count": 32,
   "metadata": {},
   "outputs": [
    {
     "name": "stdout",
     "output_type": "stream",
     "text": [
      "AGGT in lambda_virus:\n",
      "# occurrences: 306\n"
     ]
    }
   ],
   "source": [
    "occurrences = new_naive('AGGT', lamda)\n",
    "print('AGGT in lambda_virus:')\n",
    "print('# occurrences: %d' % len(occurrences))"
   ]
  },
  {
   "cell_type": "markdown",
   "metadata": {},
   "source": [
    "2. Question 2\n",
    "\n",
    "How many times does TTAA or its reverse complement occur in the lambda virus genome?\n",
    "\n",
    "Hint: TTAA and its reverse complement are equal, so remember not to double count."
   ]
  },
  {
   "cell_type": "code",
   "execution_count": 33,
   "metadata": {},
   "outputs": [
    {
     "name": "stdout",
     "output_type": "stream",
     "text": [
      "TTAA in lambda_virus:\n",
      "# occurrences: 195\n"
     ]
    }
   ],
   "source": [
    "occurrences = new_naive('TTAA', lamda)\n",
    "print('TTAA in lambda_virus:')\n",
    "print('# occurrences: %d' % len(occurrences))"
   ]
  },
  {
   "cell_type": "markdown",
   "metadata": {},
   "source": [
    "3. Question 3\n",
    "\n",
    "What is the offset of the leftmost occurrence of ACTAAGT or its reverse complement in the Lambda virus genome? E.g. if the leftmost occurrence of ACTAAGT is at offset 40 (0-based) and the leftmost occurrence of its reverse complement ACTTAGT  is at offset 29, then report 29."
   ]
  },
  {
   "cell_type": "code",
   "execution_count": 34,
   "metadata": {},
   "outputs": [
    {
     "name": "stdout",
     "output_type": "stream",
     "text": [
      "The left-most occurrence of ACTAAGT in lambda_virus: 26028\n"
     ]
    }
   ],
   "source": [
    "print('The left-most occurrence of ACTAAGT in lambda_virus: %d' % min(new_naive('ACTAAGT',lamda)))\n"
   ]
  },
  {
   "cell_type": "markdown",
   "metadata": {},
   "source": [
    "4. Question 4\n",
    "\n",
    "What is the offset of the leftmost occurrence of AGTCGA or its reverse complement in the Lambda virus genome?"
   ]
  },
  {
   "cell_type": "code",
   "execution_count": 35,
   "metadata": {},
   "outputs": [
    {
     "name": "stdout",
     "output_type": "stream",
     "text": [
      "The left-most occurrence of AGTCGA in lambda_virus: 450\n"
     ]
    }
   ],
   "source": [
    "print('The left-most occurrence of AGTCGA in lambda_virus: %d' % min(new_naive('AGTCGA',lamda)))"
   ]
  },
  {
   "cell_type": "markdown",
   "metadata": {},
   "source": [
    "5. Question 5\n",
    "\n",
    "As we will discuss, sometimes we would like to find approximate matches for P in T. That is, we want to find occurrences with one or more differences.\n",
    "\n",
    "For Questions 5 and 6, make a new version of the naive function called naive_2mm that allows up to 2 mismatches per occurrence. Unlike for the previous questions, do not consider the reverse complement here. We're looking for approximate matches for P itself, not its reverse complement.\n",
    "\n",
    "￼\n",
    "\n",
    "For example, ACTTTA occurs twice in ACTTACTTGATAAAGT, once at offset 0 with 2 mismatches, and once at offset 4 with 1 mismatch. So naive_2mm('ACTTTA', 'ACTTACTTGATAAAGT') should return the list [0, 4]\n",
    "\n",
    "Hint: See this notebook for a few examples you can use to test your naive_2mm function.\n",
    "\n",
    "How many times does TTCAAGCC occur in the Lambda virus genome when allowing up to 2 mismatches? \n",
    "\n",
    "\n",
    "WRONG!"
   ]
  },
  {
   "cell_type": "code",
   "execution_count": 36,
   "metadata": {},
   "outputs": [],
   "source": [
    "def naive_2mm(p, t):\n",
    "    occurrences = []\n",
    "    for i in range(len(t) - len(p) + 1):\n",
    "        mismatch = 0\n",
    "        match = True\n",
    "        for j in range(len(p)):\n",
    "            if t[i+j] != p[j]:\n",
    "                mismatch += 1\n",
    "                if mismatch > 2:\n",
    "                    match = False\n",
    "                    break\n",
    "        if match:\n",
    "            occurrences.append(i)\n",
    "    return occurrences"
   ]
  },
  {
   "cell_type": "code",
   "execution_count": 37,
   "metadata": {
    "scrolled": true
   },
   "outputs": [
    {
     "name": "stdout",
     "output_type": "stream",
     "text": [
      "TTCAAGCC in lambda_virus:\n",
      "# occurrences: 191\n"
     ]
    }
   ],
   "source": [
    "occurrences_5 = naive_2mm('TTCAAGCC', lamda)\n",
    "\n",
    "print('TTCAAGCC in lambda_virus:')\n",
    "print('# occurrences: %d' % len(occurrences_5))"
   ]
  },
  {
   "cell_type": "markdown",
   "metadata": {},
   "source": [
    "6. Question 6\n",
    "\n",
    "What is the offset of the leftmost occurrence of AGGAGGTT\n",
    "in the Lambda virus genome when allowing up to 2 mismatches?\n",
    "\n",
    "\n",
    "WRONG!"
   ]
  },
  {
   "cell_type": "code",
   "execution_count": 38,
   "metadata": {},
   "outputs": [
    {
     "name": "stdout",
     "output_type": "stream",
     "text": [
      "The left-most occurrence of AGGAGGTT in lambda_virus: 49\n"
     ]
    }
   ],
   "source": [
    "print('The left-most occurrence of AGGAGGTT in lambda_virus: %d' % min(naive_2mm('AGGAGGTT',lamda)))"
   ]
  },
  {
   "cell_type": "markdown",
   "metadata": {},
   "source": [
    "Question 7\n",
    "\n",
    "Finally, download and parse the provided FASTQ file containing real DNA sequencing reads derived from a human:\n",
    "\n",
    "https://d28rh4a8wq0iu5.cloudfront.net/ads1/data/ERR037900_1.first1000.fastq\n",
    "\n",
    "Note that the file has many reads in it and you should examine all of them together when answering this question. The reads are taken from this study:\n",
    "\n",
    "Ajay, S. S., Parker, S. C., Abaan, H. O., Fajardo, K. V. F., & Margulies, E. H. (2011). Accurate\n",
    "\n",
    "and comprehensive sequencing of personal genomes. Genome research, 21(9), 1498-1505.\n",
    "\n",
    "This dataset has something wrong with it; one of the sequencing cycles is poor quality.\n",
    "\n",
    "Report which sequencing cycle has the problem. Remember that a sequencing cycle corresponds to a particular offset in all the reads. For example, if the leftmost read position seems to have a problem consistently across reads, report 0. If the fourth position from the left has the problem, report 3. Do whatever analysis you think is needed to identify the bad cycle. It might help to review the \"Analyzing reads by position\" video.\n",
    "\n",
    "\n",
    "\n",
    "\n",
    "\n",
    "WRONG!"
   ]
  },
  {
   "cell_type": "code",
   "execution_count": null,
   "metadata": {},
   "outputs": [],
   "source": [
    "!wget https://d28rh4a8wq0iu5.cloudfront.net/ads1/data/ERR037900_1.first1000.fastq"
   ]
  },
  {
   "cell_type": "code",
   "execution_count": 7,
   "metadata": {},
   "outputs": [],
   "source": [
    "seqs, quals = readFastq('ERR037900_1.first1000.fastq')"
   ]
  },
  {
   "cell_type": "code",
   "execution_count": 9,
   "metadata": {},
   "outputs": [],
   "source": [
    "def phred33ToQ(qual):\n",
    "    return ord(qual) - 33"
   ]
  },
  {
   "cell_type": "code",
   "execution_count": 10,
   "metadata": {},
   "outputs": [
    {
     "name": "stdout",
     "output_type": "stream",
     "text": [
      "[0, 0, 17723, 0, 2, 11, 11, 28, 23, 55, 100, 111, 86, 174, 185, 272, 317, 259, 390, 1523, 2782, 762, 286, 413, 403, 538, 351, 694, 971, 777, 1024, 1449, 1341, 1312, 1916, 2233, 3025, 4043, 6640, 45696, 2074, 0, 0, 0, 0, 0, 0, 0, 0, 0]\n"
     ]
    }
   ],
   "source": [
    "def createHist(qualities):\n",
    "    # Create a histogram of quality scores\n",
    "    hist = [0]*50\n",
    "    for qual in qualities:\n",
    "        for phred in qual:\n",
    "            q = phred33ToQ(phred)\n",
    "            hist[q] += 1\n",
    "    return hist\n",
    "h = createHist(quals)\n",
    "print(h)\n"
   ]
  },
  {
   "cell_type": "code",
   "execution_count": 14,
   "metadata": {
    "scrolled": true
   },
   "outputs": [
    {
     "name": "stdout",
     "output_type": "stream",
     "text": [
      "[0, 0, 17723, 0, 2, 11, 11, 28, 23, 55, 100, 111, 86, 174, 185, 272, 317, 259, 390, 1523, 2782, 762, 286, 413, 403, 538, 351, 694, 971, 777, 1024, 1449, 1341, 1312, 1916, 2233, 3025, 4043, 6640, 45696, 2074, 0, 0, 0, 0, 0, 0, 0, 0, 0]\n"
     ]
    },
    {
     "data": {
      "image/png": "[encoded data removed]",
      "text/plain": [
       "<Figure size 432x288 with 1 Axes>"
      ]
     },
     "metadata": {
      "needs_background": "light"
     },
     "output_type": "display_data"
    }
   ],
   "source": [
    "import matplotlib.pyplot as plt\n",
    "%matplotlib inline\n",
    "h = createHist(quals)\n",
    "print(h)\n",
    "plt.plot(range(len(h)), h)\n",
    "plt.show()"
   ]
  },
  {
   "cell_type": "code",
   "execution_count": 47,
   "metadata": {},
   "outputs": [
    {
     "data": {
      "image/png": "[encoded data removed]",
      "text/plain": [
       "<Figure size 432x288 with 1 Axes>"
      ]
     },
     "metadata": {
      "needs_background": "light"
     },
     "output_type": "display_data"
    },
    {
     "name": "stdout",
     "output_type": "stream",
     "text": [
      "[38, 38, 38, 38, 38, 36, 36, 38, 38, 38, 38, 38, 26, 37, 38, 38, 38, 38, 38, 38, 38, 38, 38, 21, 38, 38, 23, 38, 14, 36, 36, 38, 36, 36, 36, 38, 37, 37, 37, 37, 13, 19, 21, 10, 19, 19, 19, 9, 20, 20, 34, 29, 36, 34, 34, 32, 15, 21, 32, 36, 17, 20, 28, 8, 19, 23, 2, 20, 20, 10, 19, 19, 19, 14, 18, 20, 20, 10, 10, 10, 31, 30, 30, 32, 2, 2, 2, 2, 2, 2, 2, 2, 2, 2, 2, 2, 2, 2, 2, 2]\n"
     ]
    }
   ],
   "source": [
    "def findQByPos(qualities):\n",
    "    # Keep track of the number of G/C bases and the total number of bases at each position\n",
    "    q = [0] * 100\n",
    "    totals = [0] * 100\n",
    "    for qual in qualities:\n",
    "        for i in range(len(qual)):\n",
    "            q[i] = phred33ToQ(qual[i])\n",
    "            totals[i] += 1\n",
    "    return q\n",
    "\n",
    "q = findQByPos(quals)\n",
    "plt.plot(range(len(q)), q)\n",
    "plt.show()\n",
    "print(q)"
   ]
  },
  {
   "cell_type": "code",
   "execution_count": 39,
   "metadata": {},
   "outputs": [
    {
     "name": "stderr",
     "output_type": "stream",
     "text": [
      "UsageError: Line magic function `%fastqp` not found.\n"
     ]
    }
   ],
   "source": []
  }
 ],
 "metadata": {
  "kernelspec": {
   "display_name": "Python 3",
   "language": "python",
   "name": "python3"
  },
  "language_info": {
   "codemirror_mode": {
    "name": "ipython",
    "version": 3
   },
   "file_extension": ".py",
   "mimetype": "text/x-python",
   "name": "python",
   "nbconvert_exporter": "python",
   "pygments_lexer": "ipython3",
   "version": "3.6.7"
  }
 },
 "nbformat": 4,
 "nbformat_minor": 1
}
